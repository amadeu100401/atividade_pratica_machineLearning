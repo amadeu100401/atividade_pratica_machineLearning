{
  "nbformat": 4,
  "nbformat_minor": 0,
  "metadata": {
    "colab": {
      "name": "Atividade_Pratica_1_BolsaFamilia.ipynb",
      "provenance": [],
      "authorship_tag": "ABX9TyPtKoIuWwPwzzKdy3RoM93p",
      "include_colab_link": true
    },
    "kernelspec": {
      "name": "python3",
      "display_name": "Python 3"
    },
    "language_info": {
      "name": "python"
    }
  },
  "cells": [
    {
      "cell_type": "markdown",
      "metadata": {
        "id": "view-in-github",
        "colab_type": "text"
      },
      "source": [
        "<a href=\"https://colab.research.google.com/github/amadeu100401/atividade_pr-tica_machineLearning/blob/main/Atividade_Pratica_1_BolsaFamilia.ipynb\" target=\"_parent\"><img src=\"https://colab.research.google.com/assets/colab-badge.svg\" alt=\"Open In Colab\"/></a>"
      ]
    },
    {
      "cell_type": "markdown",
      "source": [
        "# Atividade Prática I - Análise de dados do bolsa família\n",
        "* Alunos: Amadeu Martim Silva De Oliveira e Paulo Henrique Medeiros Bittencourt \n",
        "\n",
        "# Sobre a base de dados\n",
        "\n",
        "> A base dados analisada trata-se do cadastro único do governo federal onde consta os dados sobre famílias cadastradas no programa do Bolsa Família -Programa de transferência de renda para famílias na linha da pobreza.\n",
        "Essa base dados é composta por dois arquivos, onde um é referente às familias e o outro é referente as pessoas em individual.\n",
        "# Informações úteis\n",
        "[Link sobre o guia do pesquisados](https://aplicacoes.mds.gov.br/sagirmps/ferramentas/docs/manual_do_pesquisador_gestao_bolsa_familia_semlogo.pdf)\n",
        "\n",
        "[Link para baixar a base de dados](https://www.data2learning.com/repo/iachallenge/Dataset_CadastroUnico_Sergipe.zip)\n",
        "\n",
        "OBS: O arquivo está em formato .zip e é composto por três outros arquivos:\n",
        "\n",
        "* data_familia_sergipe.csv: dados das famílias.\n",
        "* data_pessoas_sergipe.csv: dadaos das pessoas.\n",
        "* Dicionario_base_desidentificada_pt.xlsx: dicionário de dados explicando o que é cada uma dos campos das bases.\n",
        "\n",
        "\n",
        "\n",
        "\n",
        " \n",
        "\n",
        "\n",
        "\n",
        "\n",
        "\n"
      ],
      "metadata": {
        "id": "6iZY1THNNf5E"
      }
    },
    {
      "cell_type": "code",
      "source": [
        ""
      ],
      "metadata": {
        "id": "bxa8-3w1Zqj7"
      },
      "execution_count": null,
      "outputs": []
    }
  ]
}